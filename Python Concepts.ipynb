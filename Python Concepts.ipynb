{
 "cells": [
  {
   "cell_type": "code",
   "execution_count": 1,
   "metadata": {},
   "outputs": [
    {
     "name": "stdout",
     "output_type": "stream",
     "text": [
      "4\n",
      "cat\n"
     ]
    }
   ],
   "source": [
    "# Creating variable\n",
    "x,y=4,\"cat\"\n",
    "print(x)\n",
    "print(y)\n",
    "\n"
   ]
  },
  {
   "cell_type": "code",
   "execution_count": 5,
   "metadata": {},
   "outputs": [
    {
     "name": "stdout",
     "output_type": "stream",
     "text": [
      "3.0\n",
      "<class 'str'>\n"
     ]
    }
   ],
   "source": [
    "#casting variable \n",
    "x=float(3)\n",
    "y=str(\"3.8\")\n",
    "print(x)\n",
    "print(type(y))\n",
    "    "
   ]
  },
  {
   "cell_type": "code",
   "execution_count": 3,
   "metadata": {},
   "outputs": [
    {
     "data": {
      "text/plain": [
       "float"
      ]
     },
     "execution_count": 3,
     "metadata": {},
     "output_type": "execute_result"
    }
   ],
   "source": [
    "type(x)"
   ]
  },
  {
   "cell_type": "code",
   "execution_count": 8,
   "metadata": {},
   "outputs": [
    {
     "name": "stdout",
     "output_type": "stream",
     "text": [
      "enter principle: 234\n",
      "enter rate:2323\n",
      "enter time232\n",
      "Simple Interest is= 1261110.24\n"
     ]
    }
   ],
   "source": [
    "# program for simple interest \n",
    "p=float(input(\"enter principle: \"))\n",
    "r=float(input(\"enter rate:\"))\n",
    "t=float(input(\"enter time\"))\n",
    "SI=p*r*t/100\n",
    "print(\"Simple Interest is=\",SI)"
   ]
  },
  {
   "cell_type": "code",
   "execution_count": 7,
   "metadata": {},
   "outputs": [
    {
     "name": "stdout",
     "output_type": "stream",
     "text": [
      "hello world \n"
     ]
    }
   ],
   "source": [
    "# Python Strings \n",
    "a= \"hello world \"\n",
    "print(a)"
   ]
  },
  {
   "cell_type": "code",
   "execution_count": 8,
   "metadata": {},
   "outputs": [
    {
     "name": "stdout",
     "output_type": "stream",
     "text": [
      "12\n"
     ]
    }
   ],
   "source": [
    "print(len(a)) #to check length"
   ]
  },
  {
   "cell_type": "code",
   "execution_count": 11,
   "metadata": {},
   "outputs": [
    {
     "name": "stdout",
     "output_type": "stream",
     "text": [
      "yup good is present\n"
     ]
    }
   ],
   "source": [
    "a=\"he is a good boy \" # to check something is present in string we use \"in\" . \n",
    "if \"good\" in a: \n",
    "    print (\"yup good is present\")"
   ]
  },
  {
   "cell_type": "code",
   "execution_count": 13,
   "metadata": {},
   "outputs": [
    {
     "name": "stdout",
     "output_type": "stream",
     "text": [
      "ans\n",
      "rme\n"
     ]
    }
   ],
   "source": [
    "a=\"transformer\"  # string slicing \n",
    "print (a[2:5])\n",
    "print(a[-4:-1])"
   ]
  },
  {
   "cell_type": "code",
   "execution_count": 15,
   "metadata": {},
   "outputs": [
    {
     "name": "stdout",
     "output_type": "stream",
     "text": [
      "transformeroptimus\n",
      "transformeroptimus\n"
     ]
    }
   ],
   "source": [
    "a=\"transformer\" # string concatenation\n",
    "b= \"optimus\"\n",
    "c=a+b\n",
    "print(a+b)\n",
    "print(c)"
   ]
  },
  {
   "cell_type": "code",
   "execution_count": 17,
   "metadata": {},
   "outputs": [
    {
     "name": "stdout",
     "output_type": "stream",
     "text": [
      "There  are 7 conntinents in the world.\n",
      "There  are 7 conntinents in the world.\n"
     ]
    }
   ],
   "source": [
    "a=7                                               # format() is used to combine string and number, it takes argument and places \n",
    "                                                  # it at {} placeholders.\n",
    "txt=\"There  are {} conntinents in the world.\"\n",
    "print(txt.format(7))\n",
    "print(txt.format(a))"
   ]
  },
  {
   "cell_type": "code",
   "execution_count": 18,
   "metadata": {},
   "outputs": [
    {
     "name": "stdout",
     "output_type": "stream",
     "text": [
      "there are 'two' models\n"
     ]
    }
   ],
   "source": [
    "txt=\"there are \\'two\\' models\" #to print the characters which are illegal we use escape charaters like  \\\"\\\" .\n",
    "print(txt)"
   ]
  },
  {
   "cell_type": "markdown",
   "metadata": {},
   "source": [
    "# Strings methods"
   ]
  },
  {
   "cell_type": "code",
   "execution_count": 33,
   "metadata": {},
   "outputs": [
    {
     "name": "stdout",
     "output_type": "stream",
     "text": [
      "Transformer\n"
     ]
    }
   ],
   "source": [
    "a=\"transformer\"  \n",
    "x=a.capitalize() # Capitalizes first letter of string, if there is numeric data in front nothing changes \n",
    "print(x)"
   ]
  },
  {
   "cell_type": "code",
   "execution_count": 34,
   "metadata": {},
   "outputs": [
    {
     "name": "stdout",
     "output_type": "stream",
     "text": [
      "transformer\n"
     ]
    }
   ],
   "source": [
    "x=x.casefold() # converts uppercase in lower case \n",
    "print(x)"
   ]
  },
  {
   "cell_type": "code",
   "execution_count": 35,
   "metadata": {},
   "outputs": [
    {
     "name": "stdout",
     "output_type": "stream",
     "text": [
      "xxxxtransformerxxxxx\n"
     ]
    }
   ],
   "source": [
    "y=x.center(20,\"x\") # it center aligns the string\n",
    "print(y)"
   ]
  },
  {
   "cell_type": "code",
   "execution_count": 36,
   "metadata": {},
   "outputs": [
    {
     "name": "stdout",
     "output_type": "stream",
     "text": [
      "2\n"
     ]
    }
   ],
   "source": [
    "print(a.count(\"r\",0,8)) # used for counting the character used in string between start and end specified index"
   ]
  },
  {
   "cell_type": "code",
   "execution_count": 37,
   "metadata": {},
   "outputs": [
    {
     "name": "stdout",
     "output_type": "stream",
     "text": [
      "False\n"
     ]
    }
   ],
   "source": [
    "txt = \"Hello, welcome to my world.\"     # endswith() checks whether txt endswith my world from position index between 5 and 11\n",
    "\n",
    "x = txt.endswith(\"my world.\", 5, 11)\n",
    "\n",
    "print(x)"
   ]
  },
  {
   "cell_type": "code",
   "execution_count": 39,
   "metadata": {},
   "outputs": [
    {
     "name": "stdout",
     "output_type": "stream",
     "text": [
      "H       e       l       l       o\n",
      "H  e  l  l  o\n"
     ]
    }
   ],
   "source": [
    "# expandtabs() expands the tab with one tab length which is of size 8 by default if we want less size that can be provided.\n",
    "txt = \"H\\te\\tl\\tl\\to\"  \n",
    "x =  txt.expandtabs()\n",
    "print(x)\n",
    "print(txt.expandtabs(3))"
   ]
  },
  {
   "cell_type": "code",
   "execution_count": 40,
   "metadata": {},
   "outputs": [
    {
     "name": "stdout",
     "output_type": "stream",
     "text": [
      "7\n"
     ]
    }
   ],
   "source": [
    "#Finds the position of welcome in the string\n",
    "txt = \"Hello, welcome to my world.\" \n",
    "x = txt.find(\"welcome\")\n",
    "print(x)"
   ]
  },
  {
   "cell_type": "code",
   "execution_count": 41,
   "metadata": {},
   "outputs": [
    {
     "name": "stdout",
     "output_type": "stream",
     "text": [
      "hey guys iam gaurav and i have 2 brothers\n"
     ]
    }
   ],
   "source": [
    "#The format() method formats the specified values and insert them inside the string's placeholder.They are helpful in combining the strings with numbers\n",
    "txt=\"hey guys iam {} and i have {} brothers\".format(\"gaurav\",2)\n",
    "print(txt)"
   ]
  },
  {
   "cell_type": "code",
   "execution_count": 43,
   "metadata": {},
   "outputs": [
    {
     "name": "stdout",
     "output_type": "stream",
     "text": [
      "2\n"
     ]
    }
   ],
   "source": [
    "txt = \"Hello, welcome to my world.\"#gives the positionof occurence of item in list\n",
    "print(txt.index(\"l\"))"
   ]
  },
  {
   "cell_type": "code",
   "execution_count": 44,
   "metadata": {},
   "outputs": [
    {
     "name": "stdout",
     "output_type": "stream",
     "text": [
      "False\n"
     ]
    }
   ],
   "source": [
    "txt = \"Company 12\" # checks whether numbers are alphanumeric\n",
    "x = txt.isalnum()\n",
    "print(x)"
   ]
  },
  {
   "cell_type": "code",
   "execution_count": 45,
   "metadata": {},
   "outputs": [
    {
     "name": "stdout",
     "output_type": "stream",
     "text": [
      "True\n"
     ]
    }
   ],
   "source": [
    "txt = \"CompanyX\" # checks whwhether numbers are alphabet\n",
    "x = txt.isalpha()\n",
    "print(x)"
   ]
  },
  {
   "cell_type": "code",
   "execution_count": 46,
   "metadata": {},
   "outputs": [
    {
     "name": "stdout",
     "output_type": "stream",
     "text": [
      "True\n"
     ]
    }
   ],
   "source": [
    "txt = \"50800\"      # checks whwhether numbers are digits\n",
    "x = txt.isdigit()\n",
    "print(x)"
   ]
  },
  {
   "cell_type": "code",
   "execution_count": 47,
   "metadata": {},
   "outputs": [
    {
     "name": "stdout",
     "output_type": "stream",
     "text": [
      "True\n",
      "True\n",
      "False\n",
      "False\n"
     ]
    }
   ],
   "source": [
    "#The isidentifier() method returns True if the string is a valid identifier, otherwise False.\n",
    "#A string is considered a valid identifier if it only contains alphanumeric letters (a-z) and (0-9), or underscores (_). A valid identifier cannot start with a number, or contain any spaces.\n",
    "a = \"MyFolder\"\n",
    "b = \"Demo002\"\n",
    "c = \"2bring\"\n",
    "d = \"my demo\"\n",
    "\n",
    "print(a.isidentifier())\n",
    "print(b.isidentifier())\n",
    "print(c.isidentifier())\n",
    "print(d.isidentifier())"
   ]
  },
  {
   "cell_type": "code",
   "execution_count": 48,
   "metadata": {},
   "outputs": [
    {
     "name": "stdout",
     "output_type": "stream",
     "text": [
      "True\n"
     ]
    }
   ],
   "source": [
    "txt = \"hello world!\" # checks whether all characters  are lower case\n",
    "x = txt.islower()\n",
    "print(x)"
   ]
  },
  {
   "cell_type": "code",
   "execution_count": null,
   "metadata": {},
   "outputs": [],
   "source": [
    "#checks whether all items in strings are numeric\n",
    "#numerics are numbers from 0-9\n",
    "#Exponents, like ² and ¾ are also considered to be numeric values.\n",
    "#\"-1\" and \"1.5\" are NOT considered numeric values, because all the characters in the string must be numeric, and the - and the . are not.\n",
    "txt = \"565\"\n",
    "x = txt.isnumeric()\n",
    "print(x)"
   ]
  },
  {
   "cell_type": "code",
   "execution_count": 49,
   "metadata": {},
   "outputs": [
    {
     "name": "stdout",
     "output_type": "stream",
     "text": [
      "False\n"
     ]
    }
   ],
   "source": [
    "txt = \"Hello!\\nAre you #1?\" #checks wether all items are printable .\n",
    "x = txt.isprintable()\n",
    "print(x)"
   ]
  },
  {
   "cell_type": "code",
   "execution_count": 50,
   "metadata": {},
   "outputs": [
    {
     "name": "stdout",
     "output_type": "stream",
     "text": [
      "False\n"
     ]
    }
   ],
   "source": [
    "txt = \"   s   \"    ##checks wether all items are whitespaces\n",
    "x = txt.isspace()\n",
    "print(x)"
   ]
  },
  {
   "cell_type": "code",
   "execution_count": 51,
   "metadata": {},
   "outputs": [
    {
     "name": "stdout",
     "output_type": "stream",
     "text": [
      "False\n",
      "True\n",
      "True\n",
      "True\n"
     ]
    }
   ],
   "source": [
    "a = \"HELLO\" # istitle gives true if first character is capital and rest other small\n",
    "b = \"Hello\"\n",
    "c = \"22 Names\"\n",
    "d = \"This Is %'!?\"\n",
    "\n",
    "print(a.istitle())\n",
    "print(b.istitle())\n",
    "print(c.istitle())\n",
    "print(d.istitle())"
   ]
  },
  {
   "cell_type": "code",
   "execution_count": 52,
   "metadata": {},
   "outputs": [
    {
     "name": "stdout",
     "output_type": "stream",
     "text": [
      "True\n"
     ]
    }
   ],
   "source": [
    "txt = \"THIS IS NOW!\"# checks all character are upper case\n",
    "x = txt.isupper()\n",
    "print(x)"
   ]
  },
  {
   "cell_type": "code",
   "execution_count": 53,
   "metadata": {},
   "outputs": [
    {
     "name": "stdout",
     "output_type": "stream",
     "text": [
      "nameTESTcountry\n"
     ]
    }
   ],
   "source": [
    "#join() helps to join all items in iterable like items of  list ,tuple,dict with separator\n",
    "myDict = {\"name\": \"John\", \"country\": \"Norway\"}\n",
    "mySeparator = \"TEST\"\n",
    "\n",
    "x = mySeparator.join(myDict)\n",
    "\n",
    "print(x)\n"
   ]
  },
  {
   "cell_type": "code",
   "execution_count": 55,
   "metadata": {},
   "outputs": [
    {
     "name": "stdout",
     "output_type": "stream",
     "text": [
      "banana************** is my favorite fruit.\n"
     ]
    }
   ],
   "source": [
    "#The ljust() method will left align the string, using a specified character (space is default) as the fill character.\n",
    "txt = \"banana\"\n",
    "x = txt.ljust(20,'*')\n",
    "print(x, \"is my favorite fruit.\")"
   ]
  },
  {
   "cell_type": "code",
   "execution_count": 56,
   "metadata": {},
   "outputs": [
    {
     "name": "stdout",
     "output_type": "stream",
     "text": [
      "hello my friends\n"
     ]
    }
   ],
   "source": [
    "#converts into lower charcter\n",
    "txt = \"Hello my FRIENDS\"\n",
    "x = txt.lower()\n",
    "print(x)"
   ]
  },
  {
   "cell_type": "code",
   "execution_count": 57,
   "metadata": {},
   "outputs": [
    {
     "name": "stdout",
     "output_type": "stream",
     "text": [
      "('I am ', 'Gaurav', ' Vajpayee')\n"
     ]
    }
   ],
   "source": [
    "txt = \"I am Gaurav Vajpayee\" #creates partition along separator and makes a tuple\n",
    "\n",
    "x = txt.partition(\"Gaurav\")\n",
    "\n",
    "print(x)"
   ]
  },
  {
   "cell_type": "code",
   "execution_count": 58,
   "metadata": {},
   "outputs": [
    {
     "name": "stdout",
     "output_type": "stream",
     "text": [
      "I am Saurabh Vajpayee\n"
     ]
    }
   ],
   "source": [
    "txt = \"I am Gaurav Vajpayee\" #replaces a value with other\n",
    "x = txt.replace(\"Gaurav\", \"Saurabh\")\n",
    "print(x)"
   ]
  },
  {
   "cell_type": "code",
   "execution_count": 59,
   "metadata": {},
   "outputs": [
    {
     "name": "stdout",
     "output_type": "stream",
     "text": [
      "16\n"
     ]
    }
   ],
   "source": [
    "txt = \"I am Gaurav Vajpayee\" #finds last occurence position\n",
    "\n",
    "x = txt.rfind(\"a\")\n",
    "\n",
    "print(x)"
   ]
  },
  {
   "cell_type": "code",
   "execution_count": 61,
   "metadata": {},
   "outputs": [
    {
     "ename": "ValueError",
     "evalue": "substring not found",
     "output_type": "error",
     "traceback": [
      "\u001b[1;31m---------------------------------------------------------------------------\u001b[0m",
      "\u001b[1;31mValueError\u001b[0m                                Traceback (most recent call last)",
      "\u001b[1;32m<ipython-input-61-8110e247f4d6>\u001b[0m in \u001b[0;36m<module>\u001b[1;34m\u001b[0m\n\u001b[0;32m      1\u001b[0m \u001b[0mtxt\u001b[0m \u001b[1;33m=\u001b[0m \u001b[1;34m\"I am Gaurav Vajpayee\"\u001b[0m \u001b[1;31m#finds last occurence position\u001b[0m\u001b[1;33m\u001b[0m\u001b[1;33m\u001b[0m\u001b[0m\n\u001b[1;32m----> 2\u001b[1;33m \u001b[0mprint\u001b[0m\u001b[1;33m(\u001b[0m\u001b[0mtxt\u001b[0m\u001b[1;33m.\u001b[0m\u001b[0mrindex\u001b[0m\u001b[1;33m(\u001b[0m\u001b[1;34m\"q\"\u001b[0m\u001b[1;33m)\u001b[0m\u001b[1;33m)\u001b[0m\u001b[1;33m\u001b[0m\u001b[1;33m\u001b[0m\u001b[0m\n\u001b[0m",
      "\u001b[1;31mValueError\u001b[0m: substring not found"
     ]
    }
   ],
   "source": [
    "txt = \"I am Gaurav Vajpayee\" #finds last occurence position\n",
    "print(txt.rindex(\"q\"))"
   ]
  },
  {
   "cell_type": "code",
   "execution_count": 64,
   "metadata": {},
   "outputs": [
    {
     "name": "stdout",
     "output_type": "stream",
     "text": [
      "**************banana is my favorite fruit.\n"
     ]
    }
   ],
   "source": [
    "txt = \"banana\" #shifts string right hand side with specified number of position along with padding charcater\n",
    "\n",
    "x = txt.rjust(20,\"*\")\n",
    "\n",
    "print(x, \"is my favorite fruit.\")"
   ]
  },
  {
   "cell_type": "code",
   "execution_count": 65,
   "metadata": {},
   "outputs": [
    {
     "name": "stdout",
     "output_type": "stream",
     "text": [
      "['hello', 'my name is Peter', 'I am 26 years old']\n"
     ]
    }
   ],
   "source": [
    "txt = \"hello, my name is Peter, I am 26 years old\" #splits into a list default separator is whitespace\n",
    "x = txt.split(\", \")\n",
    "print(x)"
   ]
  },
  {
   "cell_type": "code",
   "execution_count": 66,
   "metadata": {},
   "outputs": [
    {
     "name": "stdout",
     "output_type": "stream",
     "text": [
      "[' hello i am', ' Gaurav Vajpayee']\n"
     ]
    }
   ],
   "source": [
    "txt=\" hello i am\\n Gaurav Vajpayee\" #splites into list from newline \n",
    "x = txt.splitlines()\n",
    "print(x)"
   ]
  },
  {
   "cell_type": "code",
   "execution_count": 67,
   "metadata": {},
   "outputs": [
    {
     "name": "stdout",
     "output_type": "stream",
     "text": [
      "True\n"
     ]
    }
   ],
   "source": [
    "txt = \"Hello, welcome to my world.\" #checks whether starts with given character between positions\n",
    "x = txt.startswith(\"wel\", 7, 20)\n",
    "print(x)\n"
   ]
  },
  {
   "cell_type": "code",
   "execution_count": 68,
   "metadata": {},
   "outputs": [
    {
     "name": "stdout",
     "output_type": "stream",
     "text": [
      "of all fruits banana is my favorite\n"
     ]
    }
   ],
   "source": [
    "txt = \"     banana     \"  # removes spaces from end and start \n",
    "x = txt.strip()\n",
    "print(\"of all fruits\", x, \"is my favorite\")\n"
   ]
  },
  {
   "cell_type": "code",
   "execution_count": 69,
   "metadata": {},
   "outputs": [
    {
     "name": "stdout",
     "output_type": "stream",
     "text": [
      "gAURAV vAJPAYEE\n"
     ]
    }
   ],
   "source": [
    "txt=\"Gaurav Vajpayee\" #swaps the upper into lower and lower into upper character\n",
    "x = txt.swapcase()\n",
    "\n",
    "print(x)"
   ]
  },
  {
   "cell_type": "code",
   "execution_count": 70,
   "metadata": {},
   "outputs": [
    {
     "name": "stdout",
     "output_type": "stream",
     "text": [
      "Gaurav Vajpayee\n"
     ]
    }
   ],
   "source": [
    "txt=\"gaurav vajpayee\" # makes first letter as upper case and space is considered as separator\n",
    "x = txt.title()\n",
    "\n",
    "print(x)"
   ]
  },
  {
   "cell_type": "code",
   "execution_count": 71,
   "metadata": {},
   "outputs": [
    {
     "name": "stdout",
     "output_type": "stream",
     "text": [
      "GAURAV VAJPAYEE\n"
     ]
    }
   ],
   "source": [
    "txt=\"gaurav vajpayee\" # makes all letter as upper case\n",
    "x = txt.upper()\n",
    "\n",
    "print(x)"
   ]
  },
  {
   "cell_type": "code",
   "execution_count": 72,
   "metadata": {},
   "outputs": [
    {
     "name": "stdout",
     "output_type": "stream",
     "text": [
      "0000gaurav vajpayee\n"
     ]
    }
   ],
   "source": [
    "txt=\"gaurav vajpayee\" #fills zero until it is specified length long\n",
    "print(txt.zfill(19))"
   ]
  },
  {
   "cell_type": "code",
   "execution_count": null,
   "metadata": {},
   "outputs": [],
   "source": []
  },
  {
   "cell_type": "markdown",
   "metadata": {},
   "source": [
    "# List Methods"
   ]
  },
  {
   "cell_type": "code",
   "execution_count": 74,
   "metadata": {},
   "outputs": [
    {
     "data": {
      "text/plain": [
       "['volvo', 'toyota', 'suzuki', 'ford', ['tata', 'renault']]"
      ]
     },
     "execution_count": 74,
     "metadata": {},
     "output_type": "execute_result"
    }
   ],
   "source": [
    "#append() adds the itmes to the list at the end of the list .\n",
    "cars=[\"volvo\",\"toyota\",\"suzuki\"]\n",
    "cars.append(\"ford\")\n",
    "cars\n",
    "cars.append([\"tata\",\"renault\"])\n",
    "cars"
   ]
  },
  {
   "cell_type": "code",
   "execution_count": 75,
   "metadata": {},
   "outputs": [],
   "source": [
    "#extend() also adds the items to list but usually used for adding any iterable .\n",
    "cars.extend(\"mercedes\")"
   ]
  },
  {
   "cell_type": "code",
   "execution_count": 78,
   "metadata": {},
   "outputs": [],
   "source": [
    "cars2=(\"mercedes\",\"land rover\")\n",
    "cars.extend(cars2)"
   ]
  },
  {
   "cell_type": "code",
   "execution_count": 79,
   "metadata": {},
   "outputs": [
    {
     "name": "stdout",
     "output_type": "stream",
     "text": [
      "['volvo', 'toyota', 'suzuki', 'ford', ['tata', 'renault'], 'm', 'e', 'r', 'c', 'e', 'd', 'e', 's', 'mercedes', 'land rover']\n"
     ]
    }
   ],
   "source": [
    "print(cars)"
   ]
  },
  {
   "cell_type": "code",
   "execution_count": 81,
   "metadata": {},
   "outputs": [
    {
     "data": {
      "text/plain": [
       "[]"
      ]
     },
     "execution_count": 81,
     "metadata": {},
     "output_type": "execute_result"
    }
   ],
   "source": [
    "#clear() removes all element from the list\n",
    "fruits = ['apple', 'banana', 'cherry', 'orange']\n",
    "fruits.clear()\n",
    "fruits"
   ]
  },
  {
   "cell_type": "code",
   "execution_count": 84,
   "metadata": {},
   "outputs": [
    {
     "data": {
      "text/plain": [
       "['apple', 'banana', 'cherry', 'orange']"
      ]
     },
     "execution_count": 84,
     "metadata": {},
     "output_type": "execute_result"
    }
   ],
   "source": [
    "#copy() helps in copying the list .\n",
    "fruits = ['apple', 'banana', 'cherry', 'orange']\n",
    "x = fruits.copy()"
   ]
  },
  {
   "cell_type": "code",
   "execution_count": 91,
   "metadata": {},
   "outputs": [
    {
     "data": {
      "text/plain": [
       "2"
      ]
     },
     "execution_count": 91,
     "metadata": {},
     "output_type": "execute_result"
    }
   ],
   "source": [
    "#count() helps in getting the count of specified item in the list \n",
    "points = [1, 4, 2, 9, 7, 8, 9, 3, 1]\n",
    "x = points.count(9)\n",
    "x"
   ]
  },
  {
   "cell_type": "code",
   "execution_count": 92,
   "metadata": {},
   "outputs": [
    {
     "data": {
      "text/plain": [
       "1"
      ]
     },
     "execution_count": 92,
     "metadata": {},
     "output_type": "execute_result"
    }
   ],
   "source": [
    "# index() helps to get the position of item in the list.\n",
    "points=[1,4,2,9,7,8,3,1]\n",
    "points.index(4)"
   ]
  },
  {
   "cell_type": "code",
   "execution_count": 95,
   "metadata": {},
   "outputs": [
    {
     "data": {
      "text/plain": [
       "['maruti', 'volvo', ['mercedes', 'tata'], 'toyota', 'suzuki']"
      ]
     },
     "execution_count": 95,
     "metadata": {},
     "output_type": "execute_result"
    }
   ],
   "source": [
    "#insert() helps to add the item in the list at the specified position.\n",
    "cars=[\"volvo\",\"toyota\",\"suzuki\"]\n",
    "cars.insert(0,\"maruti\")\n",
    "cars\n",
    "cars.insert(2,[\"mercedes\",\"tata\"])\n",
    "cars"
   ]
  },
  {
   "cell_type": "code",
   "execution_count": 96,
   "metadata": {},
   "outputs": [
    {
     "data": {
      "text/plain": [
       "['maruti', ['mercedes', 'tata'], 'toyota', 'suzuki']"
      ]
     },
     "execution_count": 96,
     "metadata": {},
     "output_type": "execute_result"
    }
   ],
   "source": [
    "#pop() removes the item from specified position\n",
    "cars.pop(1)\n",
    "cars"
   ]
  },
  {
   "cell_type": "code",
   "execution_count": 100,
   "metadata": {},
   "outputs": [
    {
     "data": {
      "text/plain": [
       "['toyota', 'suzuki']"
      ]
     },
     "execution_count": 100,
     "metadata": {},
     "output_type": "execute_result"
    }
   ],
   "source": [
    "# remove() helps to remove the item from list .\n",
    "cars=[\"volvo\",\"toyota\",\"suzuki\"]\n",
    "cars.remove(\"volvo\")\n",
    "cars"
   ]
  },
  {
   "cell_type": "code",
   "execution_count": 101,
   "metadata": {},
   "outputs": [
    {
     "data": {
      "text/plain": [
       "['suzuki', 'toyota', 'volvo']"
      ]
     },
     "execution_count": 101,
     "metadata": {},
     "output_type": "execute_result"
    }
   ],
   "source": [
    "# reverse() hepls to reverse the order of list.\n",
    "cars=[\"volvo\",\"toyota\",\"suzuki\"]\n",
    "cars.reverse()\n",
    "cars"
   ]
  },
  {
   "cell_type": "code",
   "execution_count": 104,
   "metadata": {},
   "outputs": [
    {
     "data": {
      "text/plain": [
       "['volvo', 'toyota', 'suzuki']"
      ]
     },
     "execution_count": 104,
     "metadata": {},
     "output_type": "execute_result"
    }
   ],
   "source": [
    "# sort() by default it sorts the list in ascending order \n",
    "cars=[\"volvo\",\"toyota\",\"suzuki\"]\n",
    "cars.sort()\n",
    "cars\n",
    "cars.sort(reverse=True) #to sort in decending order .\n",
    "cars"
   ]
  },
  {
   "cell_type": "code",
   "execution_count": null,
   "metadata": {},
   "outputs": [],
   "source": []
  },
  {
   "cell_type": "markdown",
   "metadata": {},
   "source": [
    "# Tuples Methods "
   ]
  },
  {
   "cell_type": "code",
   "execution_count": 106,
   "metadata": {},
   "outputs": [
    {
     "name": "stdout",
     "output_type": "stream",
     "text": [
      "tata\n",
      "hyundai\n",
      "maruti\n"
     ]
    }
   ],
   "source": [
    "c # unpacking the tuple\n",
    "(silver,blue, black)=cars\n",
    "print(silver)\n",
    "print(blue)\n",
    "print(black)"
   ]
  },
  {
   "cell_type": "code",
   "execution_count": 107,
   "metadata": {},
   "outputs": [
    {
     "data": {
      "text/plain": [
       "2"
      ]
     },
     "execution_count": 107,
     "metadata": {},
     "output_type": "execute_result"
    }
   ],
   "source": [
    "cars=(\"tata\",\"hyundai\",\"maruti\",\"tata\")#count() helps to count the item in the list \n",
    "cars.count(\"tata\")"
   ]
  },
  {
   "cell_type": "code",
   "execution_count": 108,
   "metadata": {},
   "outputs": [
    {
     "data": {
      "text/plain": [
       "0"
      ]
     },
     "execution_count": 108,
     "metadata": {},
     "output_type": "execute_result"
    }
   ],
   "source": [
    "cars =(\"tata\",\"hyundai\",\"maruti\")\n",
    "cars.index(\"tata\")"
   ]
  },
  {
   "cell_type": "code",
   "execution_count": 113,
   "metadata": {},
   "outputs": [
    {
     "data": {
      "text/plain": [
       "('tata', 'hyundai', 'maruti')"
      ]
     },
     "execution_count": 113,
     "metadata": {},
     "output_type": "execute_result"
    }
   ],
   "source": [
    "#once the tuple is created it is unchangeble so the items can not be added or removed from tuple.\n",
    "#To add or remove the item in tuple we can first convert it into list and can perform the required functions.\n",
    "cars=(\"tata\",\"hyundai\",\"maruti\")\n",
    "cars=list(cars)\n",
    "cars\n",
    "cars=tuple(cars)\n",
    "cars"
   ]
  },
  {
   "cell_type": "markdown",
   "metadata": {},
   "source": [
    "# Dictionary methods"
   ]
  },
  {
   "cell_type": "code",
   "execution_count": 114,
   "metadata": {},
   "outputs": [
    {
     "name": "stdout",
     "output_type": "stream",
     "text": [
      "{'brand': 'Tata', 'model': 'nexon', 'year': 2019}\n"
     ]
    }
   ],
   "source": [
    "dictcar={\"brand\":\"Tata\", \"model\":\"nexon\",\"year\":2019}\n",
    "print(dictcar)"
   ]
  },
  {
   "cell_type": "code",
   "execution_count": 115,
   "metadata": {},
   "outputs": [
    {
     "data": {
      "text/plain": [
       "dict_keys(['brand', 'model', 'year'])"
      ]
     },
     "execution_count": 115,
     "metadata": {},
     "output_type": "execute_result"
    }
   ],
   "source": [
    "dictcar.keys() # returns the keys."
   ]
  },
  {
   "cell_type": "code",
   "execution_count": 116,
   "metadata": {},
   "outputs": [
    {
     "data": {
      "text/plain": [
       "dict_values(['Tata', 'nexon', 2019])"
      ]
     },
     "execution_count": 116,
     "metadata": {},
     "output_type": "execute_result"
    }
   ],
   "source": [
    "dictcar.values()# returns the values."
   ]
  },
  {
   "cell_type": "code",
   "execution_count": 119,
   "metadata": {},
   "outputs": [
    {
     "data": {
      "text/plain": [
       "{'brand': 'Tata', 'model': 'nexon', 'year': 2019, 'colour': 'blue'}"
      ]
     },
     "execution_count": 119,
     "metadata": {},
     "output_type": "execute_result"
    }
   ],
   "source": [
    "dictcar[\"colour\"]=\"blue\" # To add the item in dictionary\n",
    "dictcar"
   ]
  },
  {
   "cell_type": "code",
   "execution_count": 120,
   "metadata": {},
   "outputs": [
    {
     "data": {
      "text/plain": [
       "{'brand': 'Tata',\n",
       " 'model': 'nexon',\n",
       " 'year': 2019,\n",
       " 'colour': 'blue',\n",
       " 'engine': 'diesel'}"
      ]
     },
     "execution_count": 120,
     "metadata": {},
     "output_type": "execute_result"
    }
   ],
   "source": [
    "dictcar.update({\"engine\":\"diesel\"}) # To  add the item in Dictionary.\n",
    "dictcar"
   ]
  },
  {
   "cell_type": "code",
   "execution_count": 121,
   "metadata": {},
   "outputs": [
    {
     "data": {
      "text/plain": [
       "{'brand': 'Tata', 'model': 'nexon', 'year': 2019, 'engine': 'diesel'}"
      ]
     },
     "execution_count": 121,
     "metadata": {},
     "output_type": "execute_result"
    }
   ],
   "source": [
    "dictcar.pop(\"colour\") # To remove the item in the Dictionary\n",
    "dictcar"
   ]
  },
  {
   "cell_type": "code",
   "execution_count": 123,
   "metadata": {},
   "outputs": [
    {
     "data": {
      "text/plain": [
       "{'brand': 'Tata', 'model': 'nexon', 'year': 2019, 'engine': 'diesel'}"
      ]
     },
     "execution_count": 123,
     "metadata": {},
     "output_type": "execute_result"
    }
   ],
   "source": [
    "mydict=dictcar.copy()# to copy the Dictionary entirely.\n",
    "mydict"
   ]
  },
  {
   "cell_type": "code",
   "execution_count": 125,
   "metadata": {},
   "outputs": [
    {
     "data": {
      "text/plain": [
       "{'brand': ('samsung', 'm2', 128),\n",
       " 'model': ('samsung', 'm2', 128),\n",
       " 'memory': ('samsung', 'm2', 128)}"
      ]
     },
     "execution_count": 125,
     "metadata": {},
     "output_type": "execute_result"
    }
   ],
   "source": [
    "x=(\"brand\",\"model\",\"memory\") # fromkeys() gives same value to all keys.\n",
    "y=(\"samsung\",\"m2\", 128)\n",
    "mobiledict=dict.fromkeys(x,y)\n",
    "mobiledict"
   ]
  },
  {
   "cell_type": "code",
   "execution_count": 128,
   "metadata": {},
   "outputs": [
    {
     "data": {
      "text/plain": [
       "'nexon'"
      ]
     },
     "execution_count": 128,
     "metadata": {},
     "output_type": "execute_result"
    }
   ],
   "source": [
    "x=dictcar.get(\"model\") # to get value of specified key\n",
    "x"
   ]
  },
  {
   "cell_type": "code",
   "execution_count": 129,
   "metadata": {},
   "outputs": [
    {
     "data": {
      "text/plain": [
       "dict_items([('brand', 'Tata'), ('model', 'nexon'), ('year', 2019), ('engine', 'diesel')])"
      ]
     },
     "execution_count": 129,
     "metadata": {},
     "output_type": "execute_result"
    }
   ],
   "source": [
    "dictcar.items() # To get items in a  dictionary."
   ]
  },
  {
   "cell_type": "code",
   "execution_count": 133,
   "metadata": {},
   "outputs": [
    {
     "data": {
      "text/plain": [
       "{'brand': 'Tata',\n",
       " 'model': 'nexon',\n",
       " 'year': 2019,\n",
       " 'engine': 'diesel',\n",
       " 'colour': 'red'}"
      ]
     },
     "execution_count": 133,
     "metadata": {},
     "output_type": "execute_result"
    }
   ],
   "source": [
    "dictcar.setdefault(\"colour\",\"red\") # inserts the key with value and also returns the default value \n",
    "dictcar"
   ]
  },
  {
   "cell_type": "code",
   "execution_count": null,
   "metadata": {},
   "outputs": [],
   "source": []
  },
  {
   "cell_type": "markdown",
   "metadata": {},
   "source": [
    "# Set Methods "
   ]
  },
  {
   "cell_type": "code",
   "execution_count": 136,
   "metadata": {},
   "outputs": [
    {
     "data": {
      "text/plain": [
       "{'brand', 'colour', 'engine', 'model', 'year'}"
      ]
     },
     "execution_count": 136,
     "metadata": {},
     "output_type": "execute_result"
    }
   ],
   "source": [
    "cardetails={\"model\",\"brand\",\"colour\",\"year\"} # to add() the itme in set\n",
    "cardetails.add(\"engine\")\n",
    "cardetails"
   ]
  },
  {
   "cell_type": "code",
   "execution_count": 138,
   "metadata": {},
   "outputs": [
    {
     "data": {
      "text/plain": [
       "{'brand', 'colour', 'engine', 'model', 'year'}"
      ]
     },
     "execution_count": 138,
     "metadata": {},
     "output_type": "execute_result"
    }
   ],
   "source": [
    "newcar=cardetails.copy() #copy() creates the copy of set.\n",
    "newcar"
   ]
  },
  {
   "cell_type": "code",
   "execution_count": 140,
   "metadata": {},
   "outputs": [
    {
     "data": {
      "text/plain": [
       "{'brand', 'colour', 'efficiency', 'engine', 'model', 'range', 'year'}"
      ]
     },
     "execution_count": 140,
     "metadata": {},
     "output_type": "execute_result"
    }
   ],
   "source": [
    "newcar.update([\"efficiency\",\"range\"]) \n",
    "newcar"
   ]
  },
  {
   "cell_type": "code",
   "execution_count": 142,
   "metadata": {},
   "outputs": [
    {
     "data": {
      "text/plain": [
       "{'brand', 'colour', 'efficiency', 'engine', 'model', 'year'}"
      ]
     },
     "execution_count": 142,
     "metadata": {},
     "output_type": "execute_result"
    }
   ],
   "source": [
    "newcar.discard(\"range\")#to remove the item in list \n",
    "newcar"
   ]
  },
  {
   "cell_type": "code",
   "execution_count": 143,
   "metadata": {},
   "outputs": [
    {
     "data": {
      "text/plain": [
       "{'brand', 'colour', 'efficiency', 'engine', 'model'}"
      ]
     },
     "execution_count": 143,
     "metadata": {},
     "output_type": "execute_result"
    }
   ],
   "source": [
    "newcar.remove(\"year\") #to remove the item in list\n",
    "newcar"
   ]
  },
  {
   "cell_type": "code",
   "execution_count": 144,
   "metadata": {},
   "outputs": [
    {
     "data": {
      "text/plain": [
       "{'apple'}"
      ]
     },
     "execution_count": 144,
     "metadata": {},
     "output_type": "execute_result"
    }
   ],
   "source": [
    "fruits={\"apple\",\"banana\",\"orange\"}       # intersection() returns new set with intersectiom of two sets.\n",
    "company={\"microsoft\",\"apple\",\"amazon\"}\n",
    "newset=fruits.intersection(company)\n",
    "newset"
   ]
  },
  {
   "cell_type": "code",
   "execution_count": 145,
   "metadata": {},
   "outputs": [
    {
     "data": {
      "text/plain": [
       "{'amazon', 'apple', 'banana', 'microsoft', 'orange'}"
      ]
     },
     "execution_count": 145,
     "metadata": {},
     "output_type": "execute_result"
    }
   ],
   "source": [
    "newset=company.union(fruits) #union() returns the union of set.\n",
    "newset"
   ]
  },
  {
   "cell_type": "code",
   "execution_count": 146,
   "metadata": {},
   "outputs": [
    {
     "data": {
      "text/plain": [
       "{'amazon', 'banana', 'microsoft', 'orange'}"
      ]
     },
     "execution_count": 146,
     "metadata": {},
     "output_type": "execute_result"
    }
   ],
   "source": [
    "newset=fruits.symmetric_difference(company)#removes the items which is present in both set and combines rest item to form newset.\n",
    "newset"
   ]
  },
  {
   "cell_type": "code",
   "execution_count": 159,
   "metadata": {},
   "outputs": [],
   "source": [
    "names1 = ['Amir', 'Bear', 'Charlton', 'Daman']\n",
    "names2 = names1\n",
    "names3 = names1[:]\n",
    "names2[0] = 'Alice'\n",
    "names3[1] = 'Bob'\n",
    "\n",
    "sum = 0\n",
    "for ls in (names1,names2,names3):\n",
    "    if ls[0] == 'Alice':\n",
    "        sum += 1\n",
    "    if ls[1] == 'Bob':\n",
    "        sum += 10\n",
    "        print (sum)"
   ]
  },
  {
   "cell_type": "code",
   "execution_count": 170,
   "metadata": {},
   "outputs": [
    {
     "name": "stdout",
     "output_type": "stream",
     "text": [
      "mon 3\n",
      "sun 2\n",
      "wed 1\n",
      "tue 1\n",
      "thu 1\n",
      "fri 1\n"
     ]
    },
    {
     "data": {
      "text/plain": [
       "{'fri', 'mon', 'sun', 'thu', 'tue', 'wed'}"
      ]
     },
     "execution_count": 170,
     "metadata": {},
     "output_type": "execute_result"
    }
   ],
   "source": [
    "weekdays = ['sun','mon','tue','wed','thu','fri','sun','mon','mon']\n",
    "for x in set(weekdays):\n",
    "    print(x,weekdays.count(x))\n",
    "set(weekdays)"
   ]
  },
  {
   "cell_type": "code",
   "execution_count": null,
   "metadata": {},
   "outputs": [],
   "source": []
  },
  {
   "cell_type": "code",
   "execution_count": null,
   "metadata": {},
   "outputs": [],
   "source": []
  },
  {
   "cell_type": "code",
   "execution_count": null,
   "metadata": {},
   "outputs": [],
   "source": []
  },
  {
   "cell_type": "code",
   "execution_count": null,
   "metadata": {},
   "outputs": [],
   "source": []
  },
  {
   "cell_type": "code",
   "execution_count": null,
   "metadata": {},
   "outputs": [],
   "source": []
  },
  {
   "cell_type": "code",
   "execution_count": null,
   "metadata": {},
   "outputs": [],
   "source": []
  },
  {
   "cell_type": "code",
   "execution_count": null,
   "metadata": {},
   "outputs": [],
   "source": []
  },
  {
   "cell_type": "code",
   "execution_count": null,
   "metadata": {},
   "outputs": [],
   "source": []
  },
  {
   "cell_type": "code",
   "execution_count": 33,
   "metadata": {},
   "outputs": [
    {
     "name": "stdout",
     "output_type": "stream",
     "text": [
      "0\n",
      "1\n",
      "1\n",
      "2\n",
      "3\n",
      "5\n",
      "8\n",
      "13\n",
      "21\n",
      "34\n",
      "55\n"
     ]
    }
   ],
   "source": [
    "#Python program to generate Fibonacci series \n",
    "x,y=0,1 \n",
    "print(x)\n",
    "print(y)\n",
    "while y<50:\n",
    "    x,y=y,x+y\n",
    "    print(y)\n",
    "    "
   ]
  },
  {
   "cell_type": "code",
   "execution_count": 14,
   "metadata": {},
   "outputs": [
    {
     "name": "stdout",
     "output_type": "stream",
     "text": [
      "Enter number of terms:23\n",
      "Fibonacci sequence:\n",
      "0\n",
      "1\n",
      "1\n",
      "2\n",
      "3\n",
      "5\n",
      "8\n",
      "13\n",
      "21\n",
      "34\n",
      "55\n",
      "89\n",
      "144\n",
      "233\n",
      "377\n",
      "610\n",
      "987\n",
      "1597\n",
      "2584\n",
      "4181\n",
      "6765\n",
      "10946\n",
      "17711\n"
     ]
    }
   ],
   "source": [
    "def fibonacci(n):\n",
    "    if n==0:\n",
    "        return n\n",
    "    elif n==1:\n",
    "        return n\n",
    "    else:\n",
    "        return(fibonacci(n-1) + fibonacci(n-2))\n",
    "n = int(input(\"Enter number of terms:\"))\n",
    "print(\"Fibonacci sequence:\")\n",
    "for i in range(n):\n",
    "     print(fibonacci(i))"
   ]
  },
  {
   "cell_type": "code",
   "execution_count": 28,
   "metadata": {},
   "outputs": [
    {
     "name": "stdout",
     "output_type": "stream",
     "text": [
      "enter first number:11\n",
      "enter second number:19\n",
      "11\n",
      "13\n",
      "17\n",
      "19\n"
     ]
    }
   ],
   "source": [
    "## program for printing prime numbers between two numbers\n",
    "start=int(input(\"enter first number:\"))\n",
    "end=int(input(\"enter second number:\"))\n",
    "for i in range ( start, end+1):\n",
    "    for j in range(2,i):\n",
    "        if i%j==0:\n",
    "            break \n",
    "    else:\n",
    "        print(i)\n"
   ]
  },
  {
   "cell_type": "code",
   "execution_count": 31,
   "metadata": {},
   "outputs": [
    {
     "name": "stdout",
     "output_type": "stream",
     "text": [
      "enter a integer between  2 to infinity23\n",
      "a prime\n"
     ]
    },
    {
     "data": {
      "text/plain": [
       "range(0, 23)"
      ]
     },
     "execution_count": 31,
     "metadata": {},
     "output_type": "execute_result"
    }
   ],
   "source": [
    "#program for telling whether number is prime or not \n",
    "i=int(input(\"enter a integer between  2 to infinity\"))\n",
    "for j in range(2,i):\n",
    "      if i%j==0:\n",
    "        print(\"not a prime\")\n",
    "        break\n",
    "else:\n",
    "    print (\"a prime\")\n",
    "    \n",
    "    \n",
    "    "
   ]
  },
  {
   "cell_type": "code",
   "execution_count": 27,
   "metadata": {},
   "outputs": [
    {
     "name": "stdout",
     "output_type": "stream",
     "text": [
      "enter a list of integers separated by space: 12 111 1 2 3 45\n",
      "enter list of numbers which is smaller or equal to first list: 1 2 3 \n",
      " is a subset \n"
     ]
    }
   ],
   "source": [
    "arrayuser=input(\"enter a list of integers separated by space: \")\n",
    "subset=input(\"enter list of numbers which is smaller or equal to first list: \")\n",
    "if subset in arrayuser:\n",
    "    print (\" is a subset \")\n",
    "else :\n",
    "    print (\" not a subset\")"
   ]
  },
  {
   "cell_type": "code",
   "execution_count": 11,
   "metadata": {},
   "outputs": [
    {
     "data": {
      "text/plain": [
       "array([121, 131, 131], dtype=int32)"
      ]
     },
     "execution_count": 11,
     "metadata": {},
     "output_type": "execute_result"
    }
   ],
   "source": [
    "arrayfinal\n"
   ]
  },
  {
   "cell_type": "raw",
   "metadata": {},
   "source": []
  },
  {
   "cell_type": "code",
   "execution_count": 4,
   "metadata": {},
   "outputs": [],
   "source": []
  },
  {
   "cell_type": "code",
   "execution_count": 5,
   "metadata": {},
   "outputs": [
    {
     "data": {
      "text/plain": [
       "array([  123,  1313, 13313], dtype=int32)"
      ]
     },
     "execution_count": 5,
     "metadata": {},
     "output_type": "execute_result"
    }
   ],
   "source": [
    "arrayfinal\n",
    "\n"
   ]
  },
  {
   "cell_type": "code",
   "execution_count": 9,
   "metadata": {},
   "outputs": [
    {
     "data": {
      "text/plain": [
       "dtype('int32')"
      ]
     },
     "execution_count": 9,
     "metadata": {},
     "output_type": "execute_result"
    }
   ],
   "source": [
    "arrayfinal.dtype"
   ]
  },
  {
   "cell_type": "code",
   "execution_count": 32,
   "metadata": {},
   "outputs": [
    {
     "name": "stdout",
     "output_type": "stream",
     "text": [
      "{}\n"
     ]
    }
   ],
   "source": [
    "#Dictionary Methods\n",
    "car = { \"brand\": \"toyota\",\"model\": \"innova\",\"year\": 2004}\n",
    "\n",
    "car.clear()\n",
    "\n",
    "print(car)"
   ]
  },
  {
   "cell_type": "code",
   "execution_count": null,
   "metadata": {},
   "outputs": [],
   "source": []
  }
 ],
 "metadata": {
  "kernelspec": {
   "display_name": "Python 3",
   "language": "python",
   "name": "python3"
  },
  "language_info": {
   "codemirror_mode": {
    "name": "ipython",
    "version": 3
   },
   "file_extension": ".py",
   "mimetype": "text/x-python",
   "name": "python",
   "nbconvert_exporter": "python",
   "pygments_lexer": "ipython3",
   "version": "3.8.5"
  }
 },
 "nbformat": 4,
 "nbformat_minor": 4
}
